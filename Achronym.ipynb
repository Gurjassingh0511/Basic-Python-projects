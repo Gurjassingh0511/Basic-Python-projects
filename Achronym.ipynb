{
 "cells": [
  {
   "cell_type": "markdown",
   "id": "2faf67df",
   "metadata": {},
   "source": [
    "#Program for making a Achronym"
   ]
  },
  {
   "cell_type": "code",
   "execution_count": null,
   "id": "e61261ae",
   "metadata": {},
   "outputs": [],
   "source": [
    "User_input=str(input('Enter the Phrase:'))\n",
    "text=User_input.split()\n",
    "a=' '\n",
    "for i in text:\n",
    "    a=a+(i[0].upper())\n",
    "print(a)"
   ]
  }
 ],
 "metadata": {
  "kernelspec": {
   "display_name": "Python 3 (ipykernel)",
   "language": "python",
   "name": "python3"
  },
  "language_info": {
   "codemirror_mode": {
    "name": "ipython",
    "version": 3
   },
   "file_extension": ".py",
   "mimetype": "text/x-python",
   "name": "python",
   "nbconvert_exporter": "python",
   "pygments_lexer": "ipython3",
   "version": "3.9.12"
  }
 },
 "nbformat": 4,
 "nbformat_minor": 5
}
