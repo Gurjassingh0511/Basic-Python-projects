{
 "cells": [
  {
   "cell_type": "markdown",
   "id": "c2023004",
   "metadata": {},
   "source": [
    "# QR code generator"
   ]
  },
  {
   "cell_type": "code",
   "execution_count": 2,
   "id": "e00df45f",
   "metadata": {},
   "outputs": [],
   "source": [
    "import pyqrcode\n",
    "from pyqrcode import QRCode\n",
    "s='https://medium.com/coders-camp/60-python-projects-with-source-code-919cd8a6e512'\n",
    "url=pyqrcode.create(s)\n",
    "url.svg('medium.svg',scale=7)\n"
   ]
  },
  {
   "cell_type": "code",
   "execution_count": null,
   "id": "30669d2f",
   "metadata": {},
   "outputs": [],
   "source": []
  }
 ],
 "metadata": {
  "kernelspec": {
   "display_name": "Python 3 (ipykernel)",
   "language": "python",
   "name": "python3"
  },
  "language_info": {
   "codemirror_mode": {
    "name": "ipython",
    "version": 3
   },
   "file_extension": ".py",
   "mimetype": "text/x-python",
   "name": "python",
   "nbconvert_exporter": "python",
   "pygments_lexer": "ipython3",
   "version": "3.9.12"
  }
 },
 "nbformat": 4,
 "nbformat_minor": 5
}
