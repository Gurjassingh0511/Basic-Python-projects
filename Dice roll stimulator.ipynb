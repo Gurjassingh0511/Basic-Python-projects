{
 "cells": [
  {
   "cell_type": "markdown",
   "id": "7cde8f1f",
   "metadata": {},
   "source": [
    "# Rolling the dice"
   ]
  },
  {
   "cell_type": "code",
   "execution_count": null,
   "id": "e69b8555",
   "metadata": {},
   "outputs": [],
   "source": [
    "import random\n",
    "min_value=1\n",
    "max_value=6\n",
    "roll_again ='Yes'\n",
    "while roll_again  =='Yes' or roll_again=='Y':\n",
    "    print(random.randint(min_value,max_value))\n",
    "    print(random.randint(min_value,max_value))\n",
    "    roll_again=input('Do you want to roll again:').capitalize()"
   ]
  },
  {
   "cell_type": "code",
   "execution_count": null,
   "id": "27cac019",
   "metadata": {},
   "outputs": [],
   "source": []
  }
 ],
 "metadata": {
  "kernelspec": {
   "display_name": "Python 3 (ipykernel)",
   "language": "python",
   "name": "python3"
  },
  "language_info": {
   "codemirror_mode": {
    "name": "ipython",
    "version": 3
   },
   "file_extension": ".py",
   "mimetype": "text/x-python",
   "name": "python",
   "nbconvert_exporter": "python",
   "pygments_lexer": "ipython3",
   "version": "3.9.12"
  }
 },
 "nbformat": 4,
 "nbformat_minor": 5
}
