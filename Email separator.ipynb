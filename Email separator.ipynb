{
 "cells": [
  {
   "cell_type": "markdown",
   "id": "1a6040ea",
   "metadata": {},
   "source": [
    "# Program for email seprator for getting username and d"
   ]
  },
  {
   "cell_type": "code",
   "execution_count": 8,
   "id": "808a3d7d",
   "metadata": {},
   "outputs": [
    {
     "name": "stdout",
     "output_type": "stream",
     "text": [
      "Enter the email address:gurjas@singh.com\n",
      "The Username is gurjas and Domain is singh.com \n"
     ]
    }
   ],
   "source": [
    "Email=input(\"Enter the email address:\").strip()\n",
    "Username=Email[:Email.index(\"@\")]\n",
    "Domain=Email[Email.index(\"@\")+1:]\n",
    "Format_=(\"The Username is {} and Domain is {} \".format(Username,Domain))\n",
    "print(Format_)\n"
   ]
  },
  {
   "cell_type": "code",
   "execution_count": null,
   "id": "acfec833",
   "metadata": {},
   "outputs": [],
   "source": []
  },
  {
   "cell_type": "code",
   "execution_count": null,
   "id": "ebbb99e5",
   "metadata": {},
   "outputs": [],
   "source": []
  }
 ],
 "metadata": {
  "kernelspec": {
   "display_name": "Python 3 (ipykernel)",
   "language": "python",
   "name": "python3"
  },
  "language_info": {
   "codemirror_mode": {
    "name": "ipython",
    "version": 3
   },
   "file_extension": ".py",
   "mimetype": "text/x-python",
   "name": "python",
   "nbconvert_exporter": "python",
   "pygments_lexer": "ipython3",
   "version": "3.9.12"
  }
 },
 "nbformat": 4,
 "nbformat_minor": 5
}
