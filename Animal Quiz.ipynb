{
 "cells": [
  {
   "cell_type": "markdown",
   "id": "fc5cb9db",
   "metadata": {},
   "source": [
    "# Animal Quiz program\n"
   ]
  },
  {
   "cell_type": "code",
   "execution_count": null,
   "id": "4fb7e9e1",
   "metadata": {},
   "outputs": [],
   "source": [
    "def check_guess(guess,answer):\n",
    "    global score\n",
    "    still_guessing=True\n",
    "    attempt=0\n",
    "    while still_guessing and attempt<3:\n",
    "        if guess.upper()==answer.upper():\n",
    "            print('Correct answer')\n",
    "            score+=1\n",
    "            still_guessing=False\n",
    "        else:\n",
    "            if attempt<2:\n",
    "                guess=input(\"Sorry, Wrong answer..plz try again\")\n",
    "            attempt+=1\n",
    "    if attempt==3:\n",
    "        print(\"The correct answer is :\",answer)\n",
    "score=0\n",
    "print(\"Guess the animal: \")\n",
    "Guess_1=input(\"Which is the fastest land animal :\")\n",
    "check_guess(Guess_1,\"Cheetah\")\n",
    "Guess_2=input(\"Which bear lives at north pole :\")\n",
    "check_guess(Guess_2,\"Polar bear\")\n",
    "Guess_3=input(\"Which is the largest animal :\")\n",
    "check_guess(Guess_3,\"Whale\")\n",
    "print(\"your final score is :\",score)"
   ]
  },
  {
   "cell_type": "code",
   "execution_count": null,
   "id": "4f888231",
   "metadata": {},
   "outputs": [],
   "source": [
    "def check_guess(guess, answer):\n",
    "    global score\n",
    "    still_guessing = True\n",
    "    attempt = 0\n",
    "    while still_guessing and attempt < 3:\n",
    "        if guess.lower() == answer.lower():\n",
    "            print(\"Correct Answer\")\n",
    "            score = score + 1\n",
    "            still_guessing = False\n",
    "        else:\n",
    "            if attempt < 2:\n",
    "                guess = input(\"Sorry Wrong Answer, try again\")\n",
    "            attempt = attempt + 1\n",
    "    if attempt == 3:\n",
    "        print(\"The Correct answer is \",answer )\n",
    "    \n",
    "score = 0\n",
    "print(\"Guess the Animal\")\n",
    "guess1 = input(\"Which bear lives at the North Pole? \")\n",
    "check_guess(guess1, \"polar bear\")\n",
    "guess2 = input(\"Which is the fastest land animal? \")\n",
    "check_guess(guess2, \"Cheetah\")\n",
    "guess3 = input(\"Which is the larget animal? \")\n",
    "check_guess(guess3, \"Blue Whale\")\n",
    "print(\"Your Score is \"+ str(score))"
   ]
  },
  {
   "cell_type": "code",
   "execution_count": null,
   "id": "c7dcf33d",
   "metadata": {},
   "outputs": [],
   "source": []
  }
 ],
 "metadata": {
  "kernelspec": {
   "display_name": "Python 3 (ipykernel)",
   "language": "python",
   "name": "python3"
  },
  "language_info": {
   "codemirror_mode": {
    "name": "ipython",
    "version": 3
   },
   "file_extension": ".py",
   "mimetype": "text/x-python",
   "name": "python",
   "nbconvert_exporter": "python",
   "pygments_lexer": "ipython3",
   "version": "3.9.12"
  }
 },
 "nbformat": 4,
 "nbformat_minor": 5
}
