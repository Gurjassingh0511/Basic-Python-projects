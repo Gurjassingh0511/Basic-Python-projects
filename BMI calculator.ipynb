{
 "cells": [
  {
   "cell_type": "markdown",
   "id": "4cbc638c",
   "metadata": {},
   "source": [
    "# BMI calculator with python"
   ]
  },
  {
   "cell_type": "code",
   "execution_count": 10,
   "id": "84b11940",
   "metadata": {},
   "outputs": [
    {
     "name": "stdout",
     "output_type": "stream",
     "text": [
      "Enter your weight:70\n",
      "Enter your height in centimeteres:170\n",
      "your BMI is: 24.221453287197235\n",
      "you are Healthy\n"
     ]
    }
   ],
   "source": [
    "weight=float(input('Enter your weight:'))\n",
    "height=float(input('Enter your height in centimeteres:'))\n",
    "height=height/100\n",
    "BMI=weight/(height*height)\n",
    "print('your BMI is:', BMI)\n",
    "if BMI>0:\n",
    "    if BMI<=16:\n",
    "        print(\"you are severely under weight\")\n",
    "    elif BMI<=18.5:\n",
    "        print(\"you are under weight\")\n",
    "    elif BMI<=25:\n",
    "        print(\"you are Healthy\")\n",
    "    elif BMI<=30:\n",
    "        print(\"you are over weight\")\n",
    "    else:\n",
    "        print(\"you are severly over weight\")\n",
    "else:\n",
    "    print('Enter valid details')"
   ]
  },
  {
   "cell_type": "code",
   "execution_count": null,
   "id": "2306f667",
   "metadata": {},
   "outputs": [],
   "source": []
  }
 ],
 "metadata": {
  "kernelspec": {
   "display_name": "Python 3 (ipykernel)",
   "language": "python",
   "name": "python3"
  },
  "language_info": {
   "codemirror_mode": {
    "name": "ipython",
    "version": 3
   },
   "file_extension": ".py",
   "mimetype": "text/x-python",
   "name": "python",
   "nbconvert_exporter": "python",
   "pygments_lexer": "ipython3",
   "version": "3.9.12"
  }
 },
 "nbformat": 4,
 "nbformat_minor": 5
}
