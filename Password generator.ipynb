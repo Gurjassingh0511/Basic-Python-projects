{
 "cells": [
  {
   "cell_type": "markdown",
   "id": "6d8b53b3",
   "metadata": {},
   "source": [
    "#Random password generator\n"
   ]
  },
  {
   "cell_type": "code",
   "execution_count": 7,
   "id": "64f172a6",
   "metadata": {},
   "outputs": [
    {
     "name": "stdout",
     "output_type": "stream",
     "text": [
      "Enter the length of the password:8\n",
      "qUKNP65%\n"
     ]
    }
   ],
   "source": [
    "import random\n",
    "Passlen=int(input('Enter the length of the password:'))\n",
    "Elements=\"abcdefghijklmnopqrstuvwxyz01234567890ABCDEFGHIJKLMNOPQRSTUVWXYZ!@#$%^&*()?\"\n",
    "password=\"\".join(random.sample(Elements,Passlen))\n",
    "print(password)"
   ]
  },
  {
   "cell_type": "code",
   "execution_count": null,
   "id": "457f3eb8",
   "metadata": {},
   "outputs": [],
   "source": []
  },
  {
   "cell_type": "code",
   "execution_count": null,
   "id": "cc517662",
   "metadata": {},
   "outputs": [],
   "source": []
  }
 ],
 "metadata": {
  "kernelspec": {
   "display_name": "Python 3 (ipykernel)",
   "language": "python",
   "name": "python3"
  },
  "language_info": {
   "codemirror_mode": {
    "name": "ipython",
    "version": 3
   },
   "file_extension": ".py",
   "mimetype": "text/x-python",
   "name": "python",
   "nbconvert_exporter": "python",
   "pygments_lexer": "ipython3",
   "version": "3.9.12"
  }
 },
 "nbformat": 4,
 "nbformat_minor": 5
}
