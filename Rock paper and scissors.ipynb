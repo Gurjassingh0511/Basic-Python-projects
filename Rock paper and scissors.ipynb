{
 "cells": [
  {
   "cell_type": "markdown",
   "id": "aa74ff86",
   "metadata": {},
   "source": [
    "# Rock paper and scissors vs Computer"
   ]
  },
  {
   "cell_type": "code",
   "execution_count": null,
   "id": "fc81f72b",
   "metadata": {},
   "outputs": [],
   "source": [
    "import random\n",
    "choices=['Rock','Paper','Scissors']\n",
    "players_choice=False\n",
    "computer_score=0\n",
    "player_score=0\n",
    "while True:\n",
    "    computers_choice=random.choice(choices)\n",
    "    players_choice=input('Rock, Papers or scissors?').capitalize()\n",
    "    if players_choice==computers_choice:\n",
    "        print('Tie!')\n",
    "    elif players_choice=='Rock':\n",
    "        if computers_choice=='Paper':\n",
    "            print('You lose, Computer wraps you up')\n",
    "            computer_score+=1\n",
    "        else :\n",
    "            print('you win,smashed!')\n",
    "            player_score+=1\n",
    "    \n",
    "    elif players_choice=='Paper':\n",
    "        if computers_choice=='Scissors':\n",
    "            print('You lose, Computer cuts you up')\n",
    "            computer_score+=1\n",
    "        else :\n",
    "            print('you win,you wraped the computer!')\n",
    "            player_score+=1\n",
    "    elif players_choice=='Scissors':\n",
    "        if computers_choice=='Paper':\n",
    "            print('You win, you cut the computer')\n",
    "            player_score+=1\n",
    "        else :\n",
    "            print('you lose,computer smashed u!')\n",
    "            computer_score+=1\n",
    "    elif players_choice=='End':\n",
    "        print('The final scores are:')\n",
    "        print('Computers score:{}'.format(computer_score))\n",
    "        print('players score:{}'.format(player_score))\n",
    "        break\n"
   ]
  },
  {
   "cell_type": "code",
   "execution_count": null,
   "id": "a11e7f10",
   "metadata": {},
   "outputs": [],
   "source": []
  },
  {
   "cell_type": "raw",
   "id": "7c18b286",
   "metadata": {},
   "source": []
  },
  {
   "cell_type": "code",
   "execution_count": null,
   "id": "35d3438a",
   "metadata": {},
   "outputs": [],
   "source": []
  }
 ],
 "metadata": {
  "kernelspec": {
   "display_name": "Python 3 (ipykernel)",
   "language": "python",
   "name": "python3"
  },
  "language_info": {
   "codemirror_mode": {
    "name": "ipython",
    "version": 3
   },
   "file_extension": ".py",
   "mimetype": "text/x-python",
   "name": "python",
   "nbconvert_exporter": "python",
   "pygments_lexer": "ipython3",
   "version": "3.9.12"
  }
 },
 "nbformat": 4,
 "nbformat_minor": 5
}
