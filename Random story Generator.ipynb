{
 "cells": [
  {
   "cell_type": "markdown",
   "id": "a7aac18d",
   "metadata": {},
   "source": [
    "\n",
    "# Generate a random Story\n"
   ]
  },
  {
   "cell_type": "code",
   "execution_count": 1,
   "id": "6efe1140",
   "metadata": {},
   "outputs": [],
   "source": [
    "import random"
   ]
  },
  {
   "cell_type": "code",
   "execution_count": 9,
   "id": "4f7756b7",
   "metadata": {},
   "outputs": [
    {
     "name": "stdout",
     "output_type": "stream",
     "text": [
      "One upon a time, A fucker in Market licked ass of A women\n"
     ]
    }
   ],
   "source": [
    "Time=['One upon a time','Few months Earlier','During the 2oth centuary','17 years earlier']\n",
    "Where=['School ','Home ','Market ','Police station ','Library ']\n",
    "Who=['A man','A Horse','A monkey ','A Policeman ','A fucker ']\n",
    "Did=['licked ass of ','Arrested ','Fucked ']\n",
    "Women=['A women']\n",
    "print(random.choice(Time)+', '+random.choice(Who)+'in '+random.choice(Where)+random.choice(Did)+Women[0])\n",
    "     "
   ]
  },
  {
   "cell_type": "code",
   "execution_count": null,
   "id": "ee86305f",
   "metadata": {},
   "outputs": [],
   "source": []
  }
 ],
 "metadata": {
  "kernelspec": {
   "display_name": "Python 3 (ipykernel)",
   "language": "python",
   "name": "python3"
  },
  "language_info": {
   "codemirror_mode": {
    "name": "ipython",
    "version": 3
   },
   "file_extension": ".py",
   "mimetype": "text/x-python",
   "name": "python",
   "nbconvert_exporter": "python",
   "pygments_lexer": "ipython3",
   "version": "3.9.12"
  }
 },
 "nbformat": 4,
 "nbformat_minor": 5
}
